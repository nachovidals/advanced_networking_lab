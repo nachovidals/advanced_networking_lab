{
 "cells": [
  {
   "cell_type": "markdown",
   "id": "46e5180d-7ec8-4cab-8df8-ea18ee005542",
   "metadata": {},
   "source": [
    "# Lab 4: Configuring OpenAirInterface\n",
    "\n",
    "In this lab, you will get acquainted with OpenAirInterface and configure your own 5G Standalone (SA) network, which you will run and benchmark in the next lab."
   ]
  },
  {
   "cell_type": "markdown",
   "id": "d31aaead-adb6-4636-acce-041f04fd7c40",
   "metadata": {},
   "source": [
    "## Introduction: OpenAirInterface (OAI)\n",
    "\n",
    "Before diving into the configuration process, start by answering a few basic questions about OAI to get familiar with it."
   ]
  },
  {
   "cell_type": "markdown",
   "id": "551a4de0-1269-48e8-ae80-e431665ba919",
   "metadata": {},
   "source": [
    "**Question:** Describe the origin of OAI. What is it and what is it used for?\n",
    "\n",
    "**Answer:** OAI is a project created by EURECOM, a French research center in digital sciences. This project is designed to provide a similar ecosystem for the core (EPC) and a access-network (EUTRAN) of 3GPP cellular systems. The goal is to support the interoperability between open-source and closed-source equipment across different sections of cellular networks.\n",
    "\n",
    "Is it used for both, industria and academia. Is useful for the academia because it will bring closer to complex real-world systems. Also is used for real-time interoperability with commercial devices, facilitating testing and development across various hardware and software configurations CHECKEARRRRRR"
   ]
  },
  {
   "cell_type": "markdown",
   "id": "941e03c1-9518-4858-abb6-8e06dd8755e0",
   "metadata": {},
   "source": [
    "**Question:** Discuss the licensing model of OAI. Is it really open source? Why?\n",
    "\n",
    "**Answer:** <span style=\"color:red\">**CAMBIAR**</span>\n",
    "\n",
    "OpenAirInterface (OAI) is considered open source, but it operates under a specialized licensing model that aligns with the intellectual property policies of 3GPP, the body governing cellular standards. This makes its license slightly different from typical open-source licenses to accommodate the complex IP landscape of the telecom industry.\n",
    "\n",
    "Key Points of OAI's Licensing Model:\n",
    "3GPP Compatibility: The license is designed to be compatible with 3GPP intellectual property rights, allowing contributions from members holding patents on key technologies.\n",
    "Collaborative: It supports and encourages contributions from both industry and academia, fostering a collaborative development environment.\n",
    "Open Source with IP Respect: While it allows users to freely use, modify, and redistribute the software, it ensures that these activities respect the existing patents and IP rights essential in the telecom sector.\n",
    "This specialized approach enables OAI to maintain the open-source ethos of transparency and collaboration, while also navigating the specific legal and IP requirements of the telecommunications industry."
   ]
  },
  {
   "cell_type": "markdown",
   "id": "3a320e5b-cb8e-4036-98f4-a0d878ce2d3e",
   "metadata": {
    "slideshow": {
     "slide_type": ""
    },
    "tags": []
   },
   "source": [
    "## Configuring OAI\n",
    "\n",
    "In the following subsections, you will be guided through the configuration of your very own OAI 5G SA network, using the parameters you have defined in the previous labs. The eventual goal will be to run the different components you configured using Docker containers.\n",
    "\n",
    "For this lab and the next, you will need some additional material in order to get you started. You can find everything you need in the `oai` folder. More specifically, there are three subfolders you will need for this lab: the `oai-cn5g`, `oai-gnb` and `oai-ue` subfolders that contain files to configure and run the Core Network (CN), the gNodeB (gNB), and the User Equipment (UE), respectively. Each of these subfolders contains a `docker-compose.yml` file that you will eventually use to spin up the components. For an introduction to the YAML format, see [this tutorial](https://www.redhat.com/en/topics/automation/what-is-yaml). The remaining folders and files, which will be used to configure the Docker services, are the main subject of this lab."
   ]
  },
  {
   "cell_type": "markdown",
   "id": "127b4fd4-8e94-45ee-919c-8346b9e3866c",
   "metadata": {},
   "source": [
    "### OAI Core Network (CN)\n",
    "\n",
    "Let's start by getting familiar with the CN configuration files in the `oai/oai-cn5g` directory, which we will consider as the root folder throughout this subsection. This directory contains three subfolders: `conf`, `database`, and `healthscripts`."
   ]
  },
  {
   "cell_type": "markdown",
   "id": "0b6801fb-dcdb-41a5-b03b-9007933e1fa4",
   "metadata": {},
   "source": [
    "**Question**: Briefly explain for each file in the `conf` and `database` folders what its purpose is and what it configures.\n",
    "\n",
    "**Answer**:\n",
    "- oai-cn5g/conf:\n",
    "    - config.yaml: for managing a 5G network using OAI. It describes communications between functions such as AMF, SMF and UPF, also including settings for connecting to a MySQL database. Finally it configures specific traffic types and services, vital for effective network management.\n",
    "    - sip.conf: for setting up SIP services. Is important this for defining how SIP communications are handled by the system. It specifies the language, permission for allowing SIP messages to be sent over TCP in addition to UDP, the addresses and ports.\n",
    "    - users.conf: configuration file used in Asterisk systems, to define user settings for handling calls and other functions.\n",
    "- oai-cn5g/database:\n",
    "    - oai_db.sql: a sql file for setting up the necessary database schema, a platform for 5G network experimentation and deployment."
   ]
  },
  {
   "cell_type": "markdown",
   "id": "3d477570-6e80-471f-99b9-686311e11513",
   "metadata": {},
   "source": [
    "**Question**: Look at the `SBI Interfaces` part of the [config.yaml](oai/oai-cn5g/conf/config.yaml) file. What are these SBI interfaces and what purpose do they serve?\n",
    "\n",
    "**Answer**:\n",
    "\n",
    "The interfaces facilitate standarized HTTP/2 communications among NFs, enabling them to interact through RESTful APIs.\n",
    "\n",
    "The purpose is a communication setup, flexibility and scalability, and to indicate specific configurations about for example ports and network interfaces."
   ]
  },
  {
   "cell_type": "markdown",
   "id": "c5e7fd19-0065-435e-a26d-69d43f872a23",
   "metadata": {},
   "source": [
    "**Question**: Look at the `general single_nssai configuration` section. What does NSSAI stand for? What does this section define? What are the SST and ST parameters?\n",
    "\n",
    "**Answer**:\n",
    "\n",
    "NSSAI means Network Slice Selection Assistance Information. Is used to identify different types of network slices within a 5G network. \n",
    "\n",
    "SST mean Slice/Service/Type, and in the file is set to 1, indicating a generic type of service. The SD (Slice Differentiator) is set to '000001' for all the three entries, used to differentiate between slices even if they share the same SST. \n",
    "\n",
    "This configuration is essential for managing multiple slices that cater to various service in a 5G enviroment."
   ]
  },
  {
   "cell_type": "markdown",
   "id": "16aaae5a-b568-498e-8687-3c85cc2f0602",
   "metadata": {},
   "source": [
    "**Question**: Look at the AMF parameters in the `NF-specific configuration` section. What are the MCC and MNC parameters? What do their default values mean?\n",
    "\n",
    "**Answer**:\n",
    "- MCC (Mobile Country Code): identifies the country of the mobile user. 001 (default) is often used for test networks or simulations.\n",
    "- MNC (Mobile Network Code): identifies the mobile network within a country. 01 (default) is used in test enviroments to signify a simulated operator in a test network for example."
   ]
  },
  {
   "cell_type": "markdown",
   "id": "03f903c5-631a-4ca8-91d2-4e9cd345c86c",
   "metadata": {},
   "source": [
    "**Question**: What is the PLMN ID? Configure your network to have the PLMN ID of Telenet. What did you change in the config to reflect this?\n",
    "\n",
    "**Answer**: \n",
    "- PLMN ID (Public Land Mobile Network Identifier): is a unique identifier used in cellular networks to differentiate between mobile operators in the same country or region.\n",
    "\n",
    "To configure the network to use the PLMN ID of Telenet we have to change the values of MCC and MNC. \n",
    "MCC Should have the identifier of Belgium (206), and MNC the identifier of Telenet (05). The changes should be on the entries `served_guami_list` and `plmn_support_list`."
   ]
  },
  {
   "cell_type": "markdown",
   "id": "f79ebe22-60d7-4953-a055-2860a7f353ea",
   "metadata": {},
   "source": [
    "**Question**: Look at the `DNN configuration` section. What is a DNN? What DNNs are pre-configured, and what purpose does each DNN serve?\n",
    "\n",
    "**Answer**: <span style=\"color:red\">**TODO**</span>\n",
    "\n",
    "- DNN (Data Network Name): specifies the endpoint network to which a user device connects. \n",
    "    - DNN \"oai\": for general data services or testing within the network using an IPv4-only setup.\n",
    "    - DNN \"openairinterface\": configured to support both IPv4 and IPv6, probably aimed at users requiring access to more comprehensive services that need dual-stack compatibility.\n",
    "    - DNN \"ims\": is set up for IP Multimedia Subsystem services, supporting IPv4 and IPv6."
   ]
  },
  {
   "cell_type": "markdown",
   "id": "caab9cd6-66b6-480a-84b7-5e3605ef2403",
   "metadata": {},
   "source": [
    "**Question**: Provide a `git diff` of your resulting [config.yaml](oai/oai-cn5g/conf/config.yaml).\n",
    "\n",
    "**Answer**: <span style=\"color:red\">**TODO**</span>"
   ]
  },
  {
   "cell_type": "markdown",
   "id": "952e3af7-a184-45b1-a44a-c1aaf60b8f8d",
   "metadata": {},
   "source": [
    "> <span style=\"color:green\">**Hint**</span>: To do this, use the command `git diff -w --no-index path/to/default_file path/to/your_changed_file`."
   ]
  },
  {
   "cell_type": "markdown",
   "id": "ff441346-5c9c-4ef9-8322-33b508509162",
   "metadata": {},
   "source": [
    "### OAI gNodeB (gNB)\n",
    "\n",
    "Next, let's move on to the configuration of the gNB, which you can find in the `oai/oai-gnb` directory. In this directory, you can find two files: [channelmod_rfsimu.conf](oai/oai-gnb/conf/channelmod_rfsimu.conf) and [gnb.conf](oai/oai-gnb/conf/gnb.conf). You only have to worry about the latter: [channelmod_rfsimu.conf](oai/oai-gnb/conf/channelmod_rfsimu.conf) is used as a PHY layer simulator, so you can run your OAI network virtually without actual radio hardware.\n",
    "\n",
    "The default gNB configuration file sets up a gNB at carrier frequency 3.6192 GHz, with 10 MHz bandwidth, numerology 1, and TDD pattern `DDDDDDDSUU`. Your goal will be to change this configuration to the parameters you picked in the previous lab (i.e., SCS, center frequency, bandwidth, and TDD pattern). In the following subsections, you'll be guided through the configuration of these parameters.\n",
    "\n",
    "However, before you dive into the configuration file, answer the following question:"
   ]
  },
  {
   "cell_type": "markdown",
   "id": "9c0ae042-572f-4a64-a3be-c4a0dc7a4129",
   "metadata": {},
   "source": [
    "**Question:** What is ASN1, and why is this relevant?\n",
    "\n",
    "**Answser:** \n",
    "\n",
    "#### What is ASN1?\n",
    "ASN1 is a type of notation for describing data transmitted by teleccommunication protocols, regardless of language implementation and physical representation of these data.\n",
    "\n",
    "#### Why is relevant?\n",
    "ASN1 offers extensibility which addresses the problem of, and provides support for, the interworking between previously deployed systems and newer, updated versions designed years apart.\n",
    "\n",
    "ASN1 sends information in any form (audio, video, data, etc.) anywhere it needs to be communicated digitally. ASN.1 only covers the structural aspects of information (there are no operators to handle the values once these are defined or to make calculations with). Therefore it is not a programming language."
   ]
  },
  {
   "cell_type": "markdown",
   "id": "93e10074-fcfb-4d38-9b4b-e36e0f152197",
   "metadata": {},
   "source": [
    "#### Subcarrier Spacing (SCS)"
   ]
  },
  {
   "cell_type": "markdown",
   "id": "ff0e3020-ce7c-4e17-9f5c-a361fcba13f9",
   "metadata": {},
   "source": [
    "**Question:** If necessary, change the SCS of the default config file to your chosen SCS. Which parameter values would you need to/did you change? List them, along with a brief explanation of each parameter.\n",
    "\n",
    "**Answser:** \n",
    "\n",
    "- `dl_subcarrierSpacing`: we changed to 3 because our numerology. "
   ]
  },
  {
   "cell_type": "markdown",
   "id": "830253c4-e8a7-4a02-ad9b-7eb75541f418",
   "metadata": {},
   "source": [
    "#### Bandwidth"
   ]
  },
  {
   "cell_type": "markdown",
   "id": "26891b13-1ffd-4561-b880-39e15a18c4e2",
   "metadata": {},
   "source": [
    "**Question:** What do the values of `dl_carrierBandwidth` and `ul_carrierBandwidth` represent? Show how these values were calculated. Derive a general formula that, given the bandwidth and the SCS (and maybe something else?), returns the amount of **usable** resource blocks.\n",
    "\n",
    "**Answser:**\n",
    "\n",
    "- `dl_carrierBandwidth`: how much frequency spectrum is allocated for the downlink transmissions. The impact can be supporting more users or higher quality of service.\n",
    "- `ul_carrierBandwidth`: the amount of frequency spectrum allocated for uplink transmissions. Is important for the upload speeds accessible to users and can affects the performance of applications.\n",
    "\n",
    "As we have 7D, 1S and 2U, with the special slot having 6D and 4U, we can assume that the downlinks will be almost 75% of the total.\n",
    "\n",
    "- `dl_carrierBandwidth` $= \\frac{3}{4}\\times 30 MHz = 22.5 MHz$\n",
    "- `ul_carrierBandwidth` $= \\frac{1}{4}\\times 30 MHz = 7.5 MHz$ \n",
    "\n",
    "#### Total Number of Subcarriers:\n",
    "- $N_{sub} = \\frac{Total Bandwidth}{SCS} $\n",
    "\n",
    "#### Calculating the Number of Resource Blocks:\n",
    "- $N_{RB} = \\frac{N_{sub}}{8}$\n",
    "\n",
    "#### General Formula:\n",
    "- $N_{RB} = \\frac{Total Bandwidth}{8\\times SCS}$"
   ]
  },
  {
   "cell_type": "markdown",
   "id": "e3583af6-aa70-47ea-b70f-7831b470359c",
   "metadata": {},
   "source": [
    "**Question:** Use the formula you defined above to calculate the value matching your chosen bandwidth and SCS.\n",
    "\n",
    "**Answser:** \n",
    "\n",
    "- $N_{RB} = \\frac{30 MHz}{8\\times 120 kHz}\\approx 31$"
   ]
  },
  {
   "cell_type": "markdown",
   "id": "64dd8ddd-d69f-4bcf-9c4f-0ed3363549a3",
   "metadata": {},
   "source": [
    "**Question:** Are there other bandwidth-related parameters in the config file you'd need to change? If so, which one(s)?\n",
    "\n",
    "**Answser:**\n",
    "\n",
    "- dl_frequencyBand\n",
    "- initialDLBWPsubcarrierSpacing\n",
    "- ul_frequencyBand\n",
    "- initialULBWPsubcarrierSpacing\n",
    "- msg1_SubcarrierSpacing\n",
    "- subcarrierSpacing\n",
    "- referenceSubcarrierSpacing"
   ]
  },
  {
   "cell_type": "markdown",
   "id": "f4eb2ff4-7e89-4987-ab34-bebe70dd756f",
   "metadata": {},
   "source": [
    "#### Center frequency\n",
    "\n",
    "The center frequency of the default gNB config, as shown by the parameter `absoluteFrequencySSB`, is configured using a so-called NR-ARFCN value."
   ]
  },
  {
   "cell_type": "markdown",
   "id": "a30f6f75",
   "metadata": {},
   "source": [
    "**Question:** What does NR-ARFCN stand for and what is its purpose? Calculate the NR-ARFCN of your chosen carrier frequency.\n",
    "\n",
    "**Answser:** \n",
    "\n",
    "- #### Purpose:\n",
    "\n",
    "Its purpose is to simplify network configuration, facilitate mobility management, and provide a standardized means of identifying radio channels.\n",
    "\n",
    "- #### Calculation:\n",
    "$N_{REF} = \\frac{(F_{REF}-F_{REF-Offs})}{\\Delta F_{Global}}+N_{REF-Offs}$\n",
    "\n",
    "$\\Rightarrow N_{REF} = \\frac{(3500-3000)}{15}+600000 = 600033.\\overline{3}$"
   ]
  },
  {
   "cell_type": "markdown",
   "id": "234d72bb-1ae0-4176-98fe-1bd4792d8e93",
   "metadata": {},
   "source": [
    "**Question:** In addition to the carrier frequency, you'll notice that the gNB configuration file also specifies a `dl_absoluteFrequencyPointA` parameter. What does this parameter represent? Calculate the `dl_absoluteFrequencyPointA` for your setup.\n",
    "\n",
    "**Answser:** \n",
    "\n",
    "`dl_absoluteFrequencyPointA` represents the absolute frequency of a reference point in the downlink frequency band. This reference point is typically used as a baseline for defining other frequencies within the band, including the positions of synchronization signals and downlink channels.\n",
    "\n",
    "- #### Calculation:\n",
    "\n",
    "$\\text{dl_absoluteFrequencyPointA} = \\text{dl_frequencyBand} - \\text{absoluteFrequencySSB}$\n",
    "\n",
    "Let's calculate dl_absoluteFrequencyPointA using the provided values:\n",
    "\n",
    "$\\text{dl_absoluteFrequencyPointA} = 3500 \\, \\text{MHz} - 641280 \\, \\text{Hz}$\n",
    "\n",
    "$\\text{dl_absoluteFrequencyPointA} = 3500000000 \\, \\text{Hz} - 641280 \\, \\text{Hz}$\n",
    "\n",
    "$\\text{dl_absoluteFrequencyPointA} = 3499358720 \\, \\text{Hz}\\approx 3499.4 \\text{MHz}$\n",
    "\n"
   ]
  },
  {
   "cell_type": "markdown",
   "id": "e1a57322-ebb0-4c89-85ca-0802e69d2152",
   "metadata": {},
   "source": [
    "**Question:** What other center frequency related parameter(s) listed in the config file do you need to change?\n",
    "\n",
    "**Answser:** \n",
    "- dl_absoluteFrequencyPointA"
   ]
  },
  {
   "cell_type": "markdown",
   "id": "9798aa29-b6dc-4e98-9dbe-eaf781510a0b",
   "metadata": {},
   "source": [
    "#### TDD Pattern"
   ]
  },
  {
   "cell_type": "markdown",
   "id": "c381c0eb-5327-44d2-ad30-55271dd5bbb5",
   "metadata": {},
   "source": [
    "**Question:** List the parameters in the config file that define the TDD pattern, and briefly explain what their value represents.\n",
    "\n",
    "**Answser:**\n",
    "- `dl_UL_TransmissionPeriodicity`: specifies the periodicity of the DL-UL pattern in miliseconds.\n",
    "- `nrofDownlinkSlots`: indicates the number of slots dedicated to downlink transmissions within the specified DL-UL transmission periodicity.\n",
    "- `nrofDownlinkSymbols`: defines the number of OFDM symbols used for downlink transmissions within each slot.\n",
    "- `nrofUplinkSlots`: specifies the number of slots allocated for uplink transmissions.\n",
    "- `nrofUplinkSymbols`: determines the number of OFDM symbols in each uplink slot.\n",
    "- `referenceSubcarrierSpacing`: defines the subcarrier spacing"
   ]
  },
  {
   "cell_type": "markdown",
   "id": "ef181278-9e49-42f0-bdbe-2857932f804a",
   "metadata": {},
   "source": [
    "**Question:** What would the parameters look like for your chosen TDD pattern?\n",
    "\n",
    "**Answser:** \n",
    "- `dl_UL_TransmissionPeriodicity`: We choose 2 because it will repeat the pattern every milisecond, frequently changing between uplink and downlink to support very varying traffic demands.\n",
    "- `nrofDownlinkSlots`: In this case, the election is 4 because allocating 4 slots to downlink would provide capacity for the traffic.\n",
    "- `nrofDownlinkSymbols`: 14 \n",
    "- `nrofUplinkSlots`: 4\n",
    "- `nrofUplinkSymbols`: 14\n",
    "- `referenceSubcarrierSpacing`: 2"
   ]
  },
  {
   "cell_type": "markdown",
   "id": "6642aadd-8a5f-4073-ba4f-9d5318a71e1c",
   "metadata": {},
   "source": [
    "#### Putting It All Together"
   ]
  },
  {
   "cell_type": "markdown",
   "id": "c7c12d93-de24-474c-a236-2744f07e4ba0",
   "metadata": {},
   "source": [
    "**Question:** Are there any other parameters that you need to change?\n",
    "\n",
    "*Hint: how does the gNB talk to the CN?*\n",
    "\n",
    "**Answser:** <span style=\"color:red\">**TODO**</span>"
   ]
  },
  {
   "cell_type": "markdown",
   "id": "0c41ac6b-a799-49c7-a7ba-6ea847889300",
   "metadata": {},
   "source": [
    "**Question:** Update the parameters related to the SCS, bandwidth, frequency, and TDD pattern in the gNB config file. Provide a `git diff` of your resulting config file.\n",
    "\n",
    "**Answser:** <span style=\"color:red\">**TODO**</span>"
   ]
  },
  {
   "cell_type": "markdown",
   "id": "5459c0b7-6dc2-4be5-bd2d-475f7dba401b",
   "metadata": {},
   "source": [
    "### OAI User Equipment (UE)\n",
    "Finally, we configure a virtual UE that will eventually connect to your configured gNB. "
   ]
  },
  {
   "cell_type": "markdown",
   "id": "36e83d0d-cdd0-4ee8-93bc-15a97142fc41",
   "metadata": {},
   "source": [
    "**Question**: Take a look at the UE configuration file [ue.conf](oai/oai-ue/conf/ue.conf). What is UICC, and what exactly does the `uicc0` part of the configuration represent?\n",
    "\n",
    "**Answer**: <span style=\"color:red\">**TODO**</span>"
   ]
  },
  {
   "cell_type": "markdown",
   "id": "6f94e208-5444-4b9b-b958-e9acd18063f5",
   "metadata": {},
   "source": [
    "**Question**: Explain each parameter listed in `uicc0`.\n",
    "\n",
    "**Answer**: <span style=\"color:red\">**TODO**</span>"
   ]
  },
  {
   "cell_type": "markdown",
   "id": "2d4ff6cd-4a52-4bcb-855f-3149ffce34a2",
   "metadata": {},
   "source": [
    "**Question**: Is the IMSI value correct for your network? Explain why (not). If necessary, change it.\n",
    "\n",
    "**Answer**: <span style=\"color:red\">**TODO**</span>"
   ]
  },
  {
   "cell_type": "markdown",
   "id": "49035e55857796c3",
   "metadata": {},
   "source": [
    "**Question**: Take a look at the UE [docker-compose.yml](oai/oai-ue/docker-compose.yml) file, and change the `USE_ADDITIONAL_OPTIONS` parameter to match your gNB's configuration. What do you need to change?\n",
    "\n",
    "**Answer**: <span style=\"color:red\">**TODO**</span>"
   ]
  },
  {
   "cell_type": "markdown",
   "id": "6c9a9549-a75d-41ea-8265-ce9e87696cfe",
   "metadata": {},
   "source": [
    "**Question**: What else do you need to do with your new UE so that it can be recognized by the network?\n",
    "\n",
    "*Hint: how should the CN know whether your UE is a valid subscriber?*\n",
    "\n",
    "**Answer**: <span style=\"color:red\">**TODO**</span>"
   ]
  },
  {
   "cell_type": "markdown",
   "id": "11a26a39-675b-4285-ab04-5b2868ad9947",
   "metadata": {},
   "source": [
    "**Question**: Provide a `git diff` of your resulting config files.\n",
    "\n",
    "**Answer**: <span style=\"color:red\">**TODO**</span>"
   ]
  },
  {
   "cell_type": "markdown",
   "id": "25a44ea0-ff6d-4e34-bba3-eefa2ebd7ba8",
   "metadata": {},
   "source": [
    "## Combining Core and Access\n",
    "\n",
    "At this point, you should have done all the necessary configuration in order to run your very own virtual 5G SA network, which you will run and benchmark in the next lab. To make sure that you fully understand how your network is configured and interconnected, there is one final question for you to answer."
   ]
  },
  {
   "cell_type": "markdown",
   "id": "c36ff816-c817-45be-bc7e-0b7296650ed0",
   "metadata": {},
   "source": [
    "**Question:** Update the 5G SA network diagram you created in lab 1 by adding all the IP addresses and ports defined in the configuration files of the CN, the gNB, and the UE.\n",
    "\n",
    "**Answer:** <span style=\"color:red\">**TODO**</span>"
   ]
  },
  {
   "cell_type": "markdown",
   "id": "0f996843-d931-479c-a757-eec6be86332a",
   "metadata": {},
   "source": [
    "---\n",
    "<span style=\"color:red\">**IMPORTANT**</span>: Once you are done with this lab, make sure to save a copy of your configuration files, since you will most likely change some of your configurations in the next lab.\n",
    "\n",
    "In the end, make sure you have one archive named `lab4-oai.tar.gz` in the `traces` directory, containing your configuration files for this lab. For simplicity, you can archive the whole `oai` directory, **but make sure that the configuration files reflect the changes you performed in this lab!**"
   ]
  }
 ],
 "metadata": {
  "kernelspec": {
   "display_name": "Python 3 (ipykernel)",
   "language": "python",
   "name": "python3"
  },
  "language_info": {
   "codemirror_mode": {
    "name": "ipython",
    "version": 3
   },
   "file_extension": ".py",
   "mimetype": "text/x-python",
   "name": "python",
   "nbconvert_exporter": "python",
   "pygments_lexer": "ipython3",
   "version": "3.10.12"
  }
 },
 "nbformat": 4,
 "nbformat_minor": 5
}
