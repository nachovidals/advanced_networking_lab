{
 "cells": [
  {
   "cell_type": "markdown",
   "id": "a256399d-f184-4489-9627-74f45e0fece8",
   "metadata": {},
   "source": [
    "# Advanced Networking Lab - 5G"
   ]
  },
  {
   "cell_type": "markdown",
   "id": "e9668372-e63d-4c27-add6-8193e420afd2",
   "metadata": {
    "slideshow": {
     "slide_type": ""
    },
    "tags": []
   },
   "source": [
    "## Introduction\n",
    "\n",
    "Throughout the course of the 5G labs, you will plan, design, and set up your own fully functional 5G standalone (SA) network. \n",
    "\n",
    "In order to successfully complete the 5G labs, we expect you to have the following prerequisite knowledge:\n",
    "- Basic knowledge of the Linux command line;\n",
    "- Basic knowledge of Docker\n",
    "\n",
    "In general, it is also highly recommended to have followed the course *Advanced Wireless & 5G Networks (AW5GN)* before starting the labs, since it covers all the necessary theory and background you will need. However, we do realize that not all of you will have followed this 5G theory course, which is why we have made the course contents available to you.\n",
    "\n",
    "In case you haven't followed the theory lectures last semester (or simply need a refresher), I highly recommend to at least go through the notebook [AW5GN/ShannonFriisLogarithmDecibel.ipynb](./AW5GN/ShannonFriisLogarithmDecibel.ipynb), which covers the basics of working with logarithms and decibels, as well as an introduction to the Shannon-Hartley theorem, which will be useful for the labs. If you want a refresher on 5G, then slide decks 6 to 8 should give you all the background you need and more."
   ]
  },
  {
   "cell_type": "markdown",
   "id": "9672bb4b-da1e-4b1c-96a6-0b3bfd890c71",
   "metadata": {},
   "source": [
    "## Lab Structure\n",
    "\n",
    "If you download all the files associated to the 5G labs, you should have the following folder structure:\n",
    "- `AW5GN/`: contains all the slides and notebooks from the *Advanced Wireless & 5G Networks* course.\n",
    "- `images/`: contains images used throughout the labs. Put your own images there as well.\n",
    "- `oai/`: contains Docker Compose and default OpenAirInterface (OAI) configuration files. You will have to change some of these.\n",
    "- `traces/`: currently an empty folder, which you will use to store your trace files.\n",
    "- `lab0-introduction.ipynb`: the file you are currently reading. You don't have to change anything here.\n",
    "- `lab[1-6].ipynb`: main lab files which contain the questions you will need to answer.\n",
    "- `requirements.txt`: file with all Python libraries you will need to install to run the labs. In case you add any other libraries, add them here.\n",
    "- `tdd_pattern_plotter.py`: Python script to plot an arbitrary TDD pattern, used in lab 3. You shouldn't have to change anything in here."
   ]
  },
  {
   "cell_type": "markdown",
   "id": "6fbdb921-8017-4565-a868-02a8b2be95f9",
   "metadata": {},
   "source": [
    "## Practical Arrangements"
   ]
  },
  {
   "cell_type": "markdown",
   "id": "4fa202b1-4e74-4f2d-95c0-3bd2384d154f",
   "metadata": {},
   "source": [
    "### Group Practice\n",
    "\n",
    "The 5G labs will be performed in the same groups as the Wi-Fi labs."
   ]
  },
  {
   "cell_type": "markdown",
   "id": "93411d20-edb9-488b-9423-123e90a49b4e",
   "metadata": {},
   "source": [
    "### Evaluation\n",
    "\n",
    "The 5G part of the \"Advanced Networking Lab\" course accounts for **14 of the 20 points** of your total grade. \n",
    "\n",
    "Answers to the questions should be to the point. During the labs, you will also have to make some capture files, containing test results. **These files are an integral part of the report!** Without the trace files, the labs cannot be evaluated."
   ]
  },
  {
   "cell_type": "markdown",
   "id": "52665a08-7f63-4ba6-b1c1-6723c8e6087a",
   "metadata": {},
   "source": [
    "#### Grading\n",
    "\n",
    "Each group member receives the same grade for each lab. In total, there are 6 labs you need to complete. Not every lab is weighed equally, as some of the labs contain more questions than others and therefore take more time to complete. You can use the weight of each lab as an indication of the amount of time you will probably spend on it.\n",
    "The weights of each lab can be found in the following table:\n",
    "\n",
    "Lab | Weight\n",
    "--- | ---\n",
    "Lab 1: Pre-reading | 5\\%\n",
    "Lab 2: Basic Design | 10\\%\n",
    "Lab 3: RF Planning | 30\\%\n",
    "Lab 4: Configuring OpenAirInterface | 20\\%\n",
    "Lab 5: Running and Benchmarking OpenAirInterface | 25\\%\n",
    "Lab 6: OpenAirInterface Walk Test (@ The Beacon) | 10\\%"
   ]
  },
  {
   "cell_type": "markdown",
   "id": "967c078c-5202-427d-9c79-a7c8a6b2c480",
   "metadata": {},
   "source": [
    "### Deadlines\n",
    "\n",
    "The labs can be subdivided into two major groups: the first three labs are about network planning, while the last three labs are about execution and benchmarking using OAI. Since the OAI part will use some of the parameters you have defined in the network planning part, there will be two deadlines for the 5G labs: one intermediary deadline, where you will need to hand in the network planning labs, and one final deadline, by which you will submit the remaining OAI labs. The deadlines are as follows:\n",
    "- Intermediary deadline: **Sunday, May 5th 2024, 23:59**. By then, you will need to hand in labs one, two, and three. You will receive feedback on these labs so that you can successfully complete the following three labs.\n",
    "- Final deadline: **Sunday, May 26th 2024, 23:59**. By then you will submit the remaining labs. Depending on the feedback you receive on the first three labs, you might need to adapt and resubmit some of those as well, which you will also have to do before this deadline."
   ]
  },
  {
   "cell_type": "markdown",
   "id": "6cebfde8-596e-4257-a7ff-b106aa73eda9",
   "metadata": {},
   "source": [
    "### Other Important Dates\n",
    "On **Wednesday, May 22nd 2024**, we will organize the final lab session in person at *The Beacon* (Sint-Pietersvliet 7, 2000 Antwerp). The reason for this is that you will need to use the 5G testbed we have there for the final lab (lab 6)."
   ]
  },
  {
   "cell_type": "markdown",
   "id": "108f5ad7-e42a-410b-9ede-48d0e04963dc",
   "metadata": {},
   "source": [
    "## Communication\n",
    "All information about this course will be posted on Teams. In case we need to contact you directly, we will create a post in the General Teams channel. While you are of course still allowed to send us an e-mail ({arno.troch, johan.bergs, michael.peeters2}@uantwerpen.be), just know that we will most likely respond much faster on Teams. \n",
    "\n",
    "Whatever medium you decide to use, do not hesitate to ask for help if you get stuck!"
   ]
  },
  {
   "cell_type": "markdown",
   "id": "33821bbf-9572-4629-9217-613fd27fffa4",
   "metadata": {},
   "source": [
    "## Answering Questions\n",
    "\n",
    "Throughout the course of the 5G labs, there will be questions you will have to answer and exercises to perform. Each question or exercise where your input is required has been marked with a red <span style=\"color:red\">**TODO**</span>. You are free to add as many code and/or markdown cells as you deem necessary to answer the questions, as long as your answer stays to the point.\n",
    "\n",
    "Keep the following key points in mind when answering the questions:\n",
    "- **Read the question carefully.** If you are asked to compare two things, then do so. Do not describe one and forget about the other. Comparing also means that you do not describe both items separately, but that you describe the similarities and differences between them;\n",
    "- Your answers can be short, but **make sure you include all necessary information**;\n",
    "- **Only answer the question**, otherwise you may lose points even when you include the correct answer. If you are asked to give a MAC address, for example, only give the MAC address and don't give the IP address as well;\n",
    "- **Give scientific answers** where necessary. For example, you should write \"The ping in this setup is five times as fast as in the previous setup\". Do not write \"There is a huge speed difference.\" or \"In this scenario, the ping is way faster.\"\n",
    "- When you use an external resource to answer a question, **please cite which sources you used** at the end of your answer (LLMs are not a source of information!)."
   ]
  }
 ],
 "metadata": {
  "kernelspec": {
   "display_name": "Python 3 (ipykernel)",
   "language": "python",
   "name": "python3"
  },
  "language_info": {
   "codemirror_mode": {
    "name": "ipython",
    "version": 3
   },
   "file_extension": ".py",
   "mimetype": "text/x-python",
   "name": "python",
   "nbconvert_exporter": "python",
   "pygments_lexer": "ipython3",
   "version": "3.10.12"
  }
 },
 "nbformat": 4,
 "nbformat_minor": 5
}
