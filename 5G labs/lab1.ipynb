{
 "cells": [
  {
   "cell_type": "markdown",
   "id": "a7707c9f-adfb-48d3-b497-3acf73512f51",
   "metadata": {
    "editable": true,
    "slideshow": {
     "slide_type": ""
    },
    "tags": []
   },
   "source": [
    "# Lab 1: Pre-reading\n",
    "\n",
    "The goal of this lab is to familiarize yourself with cellular communications (in particular, 5G Standalone), as well as to introduce you to OpenAirInterface (OAI), the software stack that you will use throughout the labs to set up your own (virtual) 5G network. Some useful resources throughout the course of the labs are:\n",
    "\n",
    "- 5G architecture, protocols, procedures: [3gpp.org](https://www.3gpp.org/technologies/5g-system-overview), [sharetechnote.com](https://www.sharetechnote.com/html/5G/Handbook_5G_Index.html), [sqimway.com](https://www.sqimway.com/index.html), [eventhelix.com](https://www.eventhelix.com/5g/), [nrexplained.com](https://nrexplained.com)\n",
    "- OAI: [gitlab](https://gitlab.eurecom.fr/oai/openairinterface5g), [openairinterface.org](https://openairinterface.org/)"
   ]
  },
  {
   "cell_type": "markdown",
   "id": "e8867b9a-65f9-4e7a-b785-0e9566a7c1cf",
   "metadata": {
    "editable": true,
    "slideshow": {
     "slide_type": ""
    },
    "tags": []
   },
   "source": [
    "## 4G\n",
    "Before we get started with 5G, let us first take a look at its predecessor, 4G."
   ]
  },
  {
   "cell_type": "markdown",
   "id": "49b6ecb1-9936-49e9-8535-646ec1198ddf",
   "metadata": {},
   "source": [
    "**Question**: Draw a generic 4G architecture, from the UE to the internet, and briefly explain the main components.\n",
    "\n",
    "**Answer**: <span style=\"color:red\">**TODO**</span>"
   ]
  },
  {
   "cell_type": "markdown",
   "id": "ae704367-d3a8-409f-a197-9b187a98d8b3",
   "metadata": {
    "editable": true,
    "slideshow": {
     "slide_type": ""
    },
    "tags": []
   },
   "source": [
    "## 5G Non-Standalone (NSA)"
   ]
  },
  {
   "cell_type": "markdown",
   "id": "6aa0dfc5-10ef-4486-b20f-25a501879d5c",
   "metadata": {
    "editable": true,
    "slideshow": {
     "slide_type": ""
    },
    "tags": []
   },
   "source": [
    "**Question**: Draw a generic 5G NSA architecture, from the UE to the internet. What do you notice, and how does it compare to 4G?\n",
    "\n",
    "**Answer**: <span style=\"color:red\">**TODO**</span>"
   ]
  },
  {
   "cell_type": "markdown",
   "id": "5027f46f-5760-42d6-9eac-4842284c43cd",
   "metadata": {
    "editable": true,
    "slideshow": {
     "slide_type": ""
    },
    "tags": []
   },
   "source": [
    "## 5G Standalone (SA)"
   ]
  },
  {
   "cell_type": "markdown",
   "id": "64da785f-0741-4d67-8580-45331bdcb45f",
   "metadata": {
    "editable": true,
    "slideshow": {
     "slide_type": ""
    },
    "tags": []
   },
   "source": [
    "**Question**: Draw a generic 5G SA architecture, from the UE to the internet, and briefly explain the main components of the 5G Core.\n",
    "\n",
    "**Answer**: <span style=\"color:red\">**TODO**</span>"
   ]
  },
  {
   "cell_type": "markdown",
   "id": "11aabdec-481d-46ba-8d1d-6ce02f8f5dfb",
   "metadata": {},
   "source": [
    "**Question**: What is the main difference between the 4G and 5G core?\n",
    "\n",
    "**Answer**: <span style=\"color:red\">**TODO**</span>"
   ]
  },
  {
   "cell_type": "markdown",
   "id": "07adf504-3db9-440f-a750-35fc552de4da",
   "metadata": {
    "editable": true,
    "slideshow": {
     "slide_type": ""
    },
    "tags": []
   },
   "source": [
    "**Question**: List and summarize the main phases of the 5G SA access procedure that a UE goes through in order to connect to a gNodeB (from power-on to `RRC_CONNECTED`)\n",
    "\n",
    "**Answer**: <span style=\"color:red\">**TODO**</span>"
   ]
  }
 ],
 "metadata": {
  "kernelspec": {
   "display_name": "Python 3 (ipykernel)",
   "language": "python",
   "name": "python3"
  },
  "language_info": {
   "codemirror_mode": {
    "name": "ipython",
    "version": 3
   },
   "file_extension": ".py",
   "mimetype": "text/x-python",
   "name": "python",
   "nbconvert_exporter": "python",
   "pygments_lexer": "ipython3",
   "version": "3.9.6"
  }
 },
 "nbformat": 4,
 "nbformat_minor": 5
}
