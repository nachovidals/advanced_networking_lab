{
 "cells": [
  {
   "cell_type": "markdown",
   "id": "5bca6ef8-4ff9-46d7-9144-844428acae7b",
   "metadata": {
    "editable": true,
    "slideshow": {
     "slide_type": ""
    },
    "tags": []
   },
   "source": [
    "# Lab 2: Basic Design\n",
    "\n",
    "Throughout the course of this lab, you will set the foundation for the design of your own 5G network. There are two important things to consider when designing your network: the physical environment you will eventually be deploying your network in, and the network requirements.\n",
    "\n",
    "Before you get started, we will define and explain the use case that you will have to consider while designing and building your own 5G network."
   ]
  },
  {
   "cell_type": "code",
   "execution_count": 1,
   "id": "d74352d6-5d87-44b8-8188-1d24cb1cfaa1",
   "metadata": {
    "ExecuteTime": {
     "end_time": "2024-01-19T13:53:18.470624Z",
     "start_time": "2024-01-19T13:53:18.358046Z"
    },
    "editable": true,
    "slideshow": {
     "slide_type": ""
    },
    "tags": []
   },
   "outputs": [],
   "source": [
    "# You do not need to touch this\n",
    "import math\n",
    "import folium\n",
    "import numpy as np\n",
    "from geopy.distance import distance\n",
    "\n",
    "# coordinates and IDs of all the RSUs on the Smart Highway\n",
    "RSU_LIST = [((51.210583, 4.466444), \"RSU1\"),\n",
    "            ((51.215174, 4.450489), \"RSU3\"),\n",
    "            ((51.215705, 4.457142), \"RSU4\"),\n",
    "            ((51.211877, 4.461461), \"RSU5\"),\n",
    "            ((51.211192, 4.472575), \"RSU6\"),\n",
    "            ((51.210586, 4.480925), \"RSU7\"),\n",
    "            ((51.211048, 4.491425), \"RSU8\")]"
   ]
  },
  {
   "cell_type": "code",
   "execution_count": 2,
   "id": "19193bed-e12c-4c43-bf35-645910ab0e43",
   "metadata": {},
   "outputs": [],
   "source": [
    "# You do not need to touch this\n",
    "\n",
    "def show_smart_highway_map():\n",
    "    smart_highway_map = folium.Map(location=RSU_LIST[4][0], zoom_start=15, scrollWheelZoom=False)\n",
    "    \n",
    "    for i, (rsu_coordinates, rsu_id) in enumerate(RSU_LIST):\n",
    "        icon = folium.Icon(prefix=\"fa\", color=\"blue\", icon=\"tower-broadcast\")\n",
    "        folium.Marker(location=rsu_coordinates, popup=rsu_id, icon=icon).add_to(smart_highway_map)\n",
    "    \n",
    "    return smart_highway_map"
   ]
  },
  {
   "cell_type": "markdown",
   "id": "a5b1a558-795f-4df1-bf93-96633e68c557",
   "metadata": {
    "editable": true,
    "slideshow": {
     "slide_type": ""
    },
    "tags": []
   },
   "source": [
    "## Background and Use Case Definition\n",
    "### Background\n",
    "IDLab, a research group at the University of Antwerp, has a testbed called the [Smart Highway](https://www.uantwerpen.be/en/research-groups/idlab/infrastructure/smart-highway/). The Smart Highway testbed consists of multiple Road Side Units (RSUs), deployed along the E313 highway, and an Onboard Unit (OBU), which is deployed in a vehicle and can communicate with the RSUs. The testbed is often used for vehicle-to-everything (V2X) communication research, and therefore supports a variety of short range V2X communication protocols, as well as longer range communication over 4G and 5G. However, for the sake of these labs, we will pretend that the Smart Highway does not have the necessary infrastructure for 5G SA communication.\n",
    "\n",
    "| The Road Side Units (RSUs) deployed along the E313 highway | The Onboard Unit (OBU) deployed in a car, to be driven on the highway |\n",
    "| :-: | :-: |\n",
    "|![The Road Side Units (RSUs) deployed along the E313 highway](images/smarthighway_rsu.jpg)|![The Onboard Unit (OBU) deployed in a car, to be driven on the highway](images/smarthighway_obu.jpg)|"
   ]
  },
  {
   "cell_type": "code",
   "execution_count": 3,
   "id": "cab424a5-5b0e-4708-bd25-ab7b6ad007ee",
   "metadata": {
    "ExecuteTime": {
     "end_time": "2024-01-19T13:53:18.492237Z",
     "start_time": "2024-01-19T13:53:18.474083Z"
    },
    "tags": []
   },
   "outputs": [
    {
     "data": {
      "text/html": [
       "<div style=\"width:100%;\"><div style=\"position:relative;width:100%;height:0;padding-bottom:60%;\"><span style=\"color:#565656\">Make this Notebook Trusted to load map: File -> Trust Notebook</span><iframe srcdoc=\"&lt;!DOCTYPE html&gt;\n",
       "&lt;html&gt;\n",
       "&lt;head&gt;\n",
       "    \n",
       "    &lt;meta http-equiv=&quot;content-type&quot; content=&quot;text/html; charset=UTF-8&quot; /&gt;\n",
       "    \n",
       "        &lt;script&gt;\n",
       "            L_NO_TOUCH = false;\n",
       "            L_DISABLE_3D = false;\n",
       "        &lt;/script&gt;\n",
       "    \n",
       "    &lt;style&gt;html, body {width: 100%;height: 100%;margin: 0;padding: 0;}&lt;/style&gt;\n",
       "    &lt;style&gt;#map {position:absolute;top:0;bottom:0;right:0;left:0;}&lt;/style&gt;\n",
       "    &lt;script src=&quot;https://cdn.jsdelivr.net/npm/leaflet@1.9.3/dist/leaflet.js&quot;&gt;&lt;/script&gt;\n",
       "    &lt;script src=&quot;https://code.jquery.com/jquery-3.7.1.min.js&quot;&gt;&lt;/script&gt;\n",
       "    &lt;script src=&quot;https://cdn.jsdelivr.net/npm/bootstrap@5.2.2/dist/js/bootstrap.bundle.min.js&quot;&gt;&lt;/script&gt;\n",
       "    &lt;script src=&quot;https://cdnjs.cloudflare.com/ajax/libs/Leaflet.awesome-markers/2.0.2/leaflet.awesome-markers.js&quot;&gt;&lt;/script&gt;\n",
       "    &lt;link rel=&quot;stylesheet&quot; href=&quot;https://cdn.jsdelivr.net/npm/leaflet@1.9.3/dist/leaflet.css&quot;/&gt;\n",
       "    &lt;link rel=&quot;stylesheet&quot; href=&quot;https://cdn.jsdelivr.net/npm/bootstrap@5.2.2/dist/css/bootstrap.min.css&quot;/&gt;\n",
       "    &lt;link rel=&quot;stylesheet&quot; href=&quot;https://netdna.bootstrapcdn.com/bootstrap/3.0.0/css/bootstrap.min.css&quot;/&gt;\n",
       "    &lt;link rel=&quot;stylesheet&quot; href=&quot;https://cdn.jsdelivr.net/npm/@fortawesome/fontawesome-free@6.2.0/css/all.min.css&quot;/&gt;\n",
       "    &lt;link rel=&quot;stylesheet&quot; href=&quot;https://cdnjs.cloudflare.com/ajax/libs/Leaflet.awesome-markers/2.0.2/leaflet.awesome-markers.css&quot;/&gt;\n",
       "    &lt;link rel=&quot;stylesheet&quot; href=&quot;https://cdn.jsdelivr.net/gh/python-visualization/folium/folium/templates/leaflet.awesome.rotate.min.css&quot;/&gt;\n",
       "    \n",
       "            &lt;meta name=&quot;viewport&quot; content=&quot;width=device-width,\n",
       "                initial-scale=1.0, maximum-scale=1.0, user-scalable=no&quot; /&gt;\n",
       "            &lt;style&gt;\n",
       "                #map_d2cccc087bd57bae8e5a6472bb708bd3 {\n",
       "                    position: relative;\n",
       "                    width: 100.0%;\n",
       "                    height: 100.0%;\n",
       "                    left: 0.0%;\n",
       "                    top: 0.0%;\n",
       "                }\n",
       "                .leaflet-container { font-size: 1rem; }\n",
       "            &lt;/style&gt;\n",
       "        \n",
       "&lt;/head&gt;\n",
       "&lt;body&gt;\n",
       "    \n",
       "    \n",
       "            &lt;div class=&quot;folium-map&quot; id=&quot;map_d2cccc087bd57bae8e5a6472bb708bd3&quot; &gt;&lt;/div&gt;\n",
       "        \n",
       "&lt;/body&gt;\n",
       "&lt;script&gt;\n",
       "    \n",
       "    \n",
       "            var map_d2cccc087bd57bae8e5a6472bb708bd3 = L.map(\n",
       "                &quot;map_d2cccc087bd57bae8e5a6472bb708bd3&quot;,\n",
       "                {\n",
       "                    center: [51.211192, 4.472575],\n",
       "                    crs: L.CRS.EPSG3857,\n",
       "                    zoom: 15,\n",
       "                    zoomControl: true,\n",
       "                    preferCanvas: false,\n",
       "                    scrollWheelZoom: false,\n",
       "                }\n",
       "            );\n",
       "\n",
       "            \n",
       "\n",
       "        \n",
       "    \n",
       "            var tile_layer_e4bea89399d94b436a7380b94b95a994 = L.tileLayer(\n",
       "                &quot;https://tile.openstreetmap.org/{z}/{x}/{y}.png&quot;,\n",
       "                {&quot;attribution&quot;: &quot;\\u0026copy; \\u003ca href=\\&quot;https://www.openstreetmap.org/copyright\\&quot;\\u003eOpenStreetMap\\u003c/a\\u003e contributors&quot;, &quot;detectRetina&quot;: false, &quot;maxNativeZoom&quot;: 19, &quot;maxZoom&quot;: 19, &quot;minZoom&quot;: 0, &quot;noWrap&quot;: false, &quot;opacity&quot;: 1, &quot;subdomains&quot;: &quot;abc&quot;, &quot;tms&quot;: false}\n",
       "            );\n",
       "        \n",
       "    \n",
       "            tile_layer_e4bea89399d94b436a7380b94b95a994.addTo(map_d2cccc087bd57bae8e5a6472bb708bd3);\n",
       "        \n",
       "    \n",
       "            var marker_a4265322d5080e43532b234a4b1af8a2 = L.marker(\n",
       "                [51.210583, 4.466444],\n",
       "                {}\n",
       "            ).addTo(map_d2cccc087bd57bae8e5a6472bb708bd3);\n",
       "        \n",
       "    \n",
       "            var icon_7a6851867a3e57847d70339b4cae4cee = L.AwesomeMarkers.icon(\n",
       "                {&quot;extraClasses&quot;: &quot;fa-rotate-0&quot;, &quot;icon&quot;: &quot;tower-broadcast&quot;, &quot;iconColor&quot;: &quot;white&quot;, &quot;markerColor&quot;: &quot;blue&quot;, &quot;prefix&quot;: &quot;fa&quot;}\n",
       "            );\n",
       "            marker_a4265322d5080e43532b234a4b1af8a2.setIcon(icon_7a6851867a3e57847d70339b4cae4cee);\n",
       "        \n",
       "    \n",
       "        var popup_37469a5196324ea57a30c4d4c1dbb794 = L.popup({&quot;maxWidth&quot;: &quot;100%&quot;});\n",
       "\n",
       "        \n",
       "            \n",
       "                var html_2818b8ac3e03eef349e35966a661804b = $(`&lt;div id=&quot;html_2818b8ac3e03eef349e35966a661804b&quot; style=&quot;width: 100.0%; height: 100.0%;&quot;&gt;RSU1&lt;/div&gt;`)[0];\n",
       "                popup_37469a5196324ea57a30c4d4c1dbb794.setContent(html_2818b8ac3e03eef349e35966a661804b);\n",
       "            \n",
       "        \n",
       "\n",
       "        marker_a4265322d5080e43532b234a4b1af8a2.bindPopup(popup_37469a5196324ea57a30c4d4c1dbb794)\n",
       "        ;\n",
       "\n",
       "        \n",
       "    \n",
       "    \n",
       "            var marker_f31f94704ffcbf7417dab3810c974a94 = L.marker(\n",
       "                [51.215174, 4.450489],\n",
       "                {}\n",
       "            ).addTo(map_d2cccc087bd57bae8e5a6472bb708bd3);\n",
       "        \n",
       "    \n",
       "            var icon_13b176c6a9f50ba3f5f91dc4c5d00cbb = L.AwesomeMarkers.icon(\n",
       "                {&quot;extraClasses&quot;: &quot;fa-rotate-0&quot;, &quot;icon&quot;: &quot;tower-broadcast&quot;, &quot;iconColor&quot;: &quot;white&quot;, &quot;markerColor&quot;: &quot;blue&quot;, &quot;prefix&quot;: &quot;fa&quot;}\n",
       "            );\n",
       "            marker_f31f94704ffcbf7417dab3810c974a94.setIcon(icon_13b176c6a9f50ba3f5f91dc4c5d00cbb);\n",
       "        \n",
       "    \n",
       "        var popup_facfb8776fe295b7ccc9b85c5875b2ea = L.popup({&quot;maxWidth&quot;: &quot;100%&quot;});\n",
       "\n",
       "        \n",
       "            \n",
       "                var html_38f53340f6e9b4b8a7875e27c88746d6 = $(`&lt;div id=&quot;html_38f53340f6e9b4b8a7875e27c88746d6&quot; style=&quot;width: 100.0%; height: 100.0%;&quot;&gt;RSU3&lt;/div&gt;`)[0];\n",
       "                popup_facfb8776fe295b7ccc9b85c5875b2ea.setContent(html_38f53340f6e9b4b8a7875e27c88746d6);\n",
       "            \n",
       "        \n",
       "\n",
       "        marker_f31f94704ffcbf7417dab3810c974a94.bindPopup(popup_facfb8776fe295b7ccc9b85c5875b2ea)\n",
       "        ;\n",
       "\n",
       "        \n",
       "    \n",
       "    \n",
       "            var marker_87ec4fb0e92f773e61228677f7c987ff = L.marker(\n",
       "                [51.215705, 4.457142],\n",
       "                {}\n",
       "            ).addTo(map_d2cccc087bd57bae8e5a6472bb708bd3);\n",
       "        \n",
       "    \n",
       "            var icon_bbf0ca788aac9b5209ca8afe290eee98 = L.AwesomeMarkers.icon(\n",
       "                {&quot;extraClasses&quot;: &quot;fa-rotate-0&quot;, &quot;icon&quot;: &quot;tower-broadcast&quot;, &quot;iconColor&quot;: &quot;white&quot;, &quot;markerColor&quot;: &quot;blue&quot;, &quot;prefix&quot;: &quot;fa&quot;}\n",
       "            );\n",
       "            marker_87ec4fb0e92f773e61228677f7c987ff.setIcon(icon_bbf0ca788aac9b5209ca8afe290eee98);\n",
       "        \n",
       "    \n",
       "        var popup_837a19090489c06b928c3e959c376f29 = L.popup({&quot;maxWidth&quot;: &quot;100%&quot;});\n",
       "\n",
       "        \n",
       "            \n",
       "                var html_cb92a110d1fb1f64de24fcf5889b148d = $(`&lt;div id=&quot;html_cb92a110d1fb1f64de24fcf5889b148d&quot; style=&quot;width: 100.0%; height: 100.0%;&quot;&gt;RSU4&lt;/div&gt;`)[0];\n",
       "                popup_837a19090489c06b928c3e959c376f29.setContent(html_cb92a110d1fb1f64de24fcf5889b148d);\n",
       "            \n",
       "        \n",
       "\n",
       "        marker_87ec4fb0e92f773e61228677f7c987ff.bindPopup(popup_837a19090489c06b928c3e959c376f29)\n",
       "        ;\n",
       "\n",
       "        \n",
       "    \n",
       "    \n",
       "            var marker_32f6fd2e7355dc871dc4c95db2577970 = L.marker(\n",
       "                [51.211877, 4.461461],\n",
       "                {}\n",
       "            ).addTo(map_d2cccc087bd57bae8e5a6472bb708bd3);\n",
       "        \n",
       "    \n",
       "            var icon_aa6c1cc7be95bea16f3cc71d48b89c31 = L.AwesomeMarkers.icon(\n",
       "                {&quot;extraClasses&quot;: &quot;fa-rotate-0&quot;, &quot;icon&quot;: &quot;tower-broadcast&quot;, &quot;iconColor&quot;: &quot;white&quot;, &quot;markerColor&quot;: &quot;blue&quot;, &quot;prefix&quot;: &quot;fa&quot;}\n",
       "            );\n",
       "            marker_32f6fd2e7355dc871dc4c95db2577970.setIcon(icon_aa6c1cc7be95bea16f3cc71d48b89c31);\n",
       "        \n",
       "    \n",
       "        var popup_0191e086080b215b1e04de044f3454e0 = L.popup({&quot;maxWidth&quot;: &quot;100%&quot;});\n",
       "\n",
       "        \n",
       "            \n",
       "                var html_b582738f69ca87f8ec4e734fd079bb80 = $(`&lt;div id=&quot;html_b582738f69ca87f8ec4e734fd079bb80&quot; style=&quot;width: 100.0%; height: 100.0%;&quot;&gt;RSU5&lt;/div&gt;`)[0];\n",
       "                popup_0191e086080b215b1e04de044f3454e0.setContent(html_b582738f69ca87f8ec4e734fd079bb80);\n",
       "            \n",
       "        \n",
       "\n",
       "        marker_32f6fd2e7355dc871dc4c95db2577970.bindPopup(popup_0191e086080b215b1e04de044f3454e0)\n",
       "        ;\n",
       "\n",
       "        \n",
       "    \n",
       "    \n",
       "            var marker_0ca956fecb8bc64064a147e5a5456115 = L.marker(\n",
       "                [51.211192, 4.472575],\n",
       "                {}\n",
       "            ).addTo(map_d2cccc087bd57bae8e5a6472bb708bd3);\n",
       "        \n",
       "    \n",
       "            var icon_39a73a9cb2c3e91ce981540cfa0370bb = L.AwesomeMarkers.icon(\n",
       "                {&quot;extraClasses&quot;: &quot;fa-rotate-0&quot;, &quot;icon&quot;: &quot;tower-broadcast&quot;, &quot;iconColor&quot;: &quot;white&quot;, &quot;markerColor&quot;: &quot;blue&quot;, &quot;prefix&quot;: &quot;fa&quot;}\n",
       "            );\n",
       "            marker_0ca956fecb8bc64064a147e5a5456115.setIcon(icon_39a73a9cb2c3e91ce981540cfa0370bb);\n",
       "        \n",
       "    \n",
       "        var popup_1aaff4662437fdd28a93cc50c97f616c = L.popup({&quot;maxWidth&quot;: &quot;100%&quot;});\n",
       "\n",
       "        \n",
       "            \n",
       "                var html_13d3d79b1f279f35b06143243fe6f690 = $(`&lt;div id=&quot;html_13d3d79b1f279f35b06143243fe6f690&quot; style=&quot;width: 100.0%; height: 100.0%;&quot;&gt;RSU6&lt;/div&gt;`)[0];\n",
       "                popup_1aaff4662437fdd28a93cc50c97f616c.setContent(html_13d3d79b1f279f35b06143243fe6f690);\n",
       "            \n",
       "        \n",
       "\n",
       "        marker_0ca956fecb8bc64064a147e5a5456115.bindPopup(popup_1aaff4662437fdd28a93cc50c97f616c)\n",
       "        ;\n",
       "\n",
       "        \n",
       "    \n",
       "    \n",
       "            var marker_b62a8f0888c9e476eba38ba8ed0c5f94 = L.marker(\n",
       "                [51.210586, 4.480925],\n",
       "                {}\n",
       "            ).addTo(map_d2cccc087bd57bae8e5a6472bb708bd3);\n",
       "        \n",
       "    \n",
       "            var icon_c0c2079b9a4582181d0420fc062eb471 = L.AwesomeMarkers.icon(\n",
       "                {&quot;extraClasses&quot;: &quot;fa-rotate-0&quot;, &quot;icon&quot;: &quot;tower-broadcast&quot;, &quot;iconColor&quot;: &quot;white&quot;, &quot;markerColor&quot;: &quot;blue&quot;, &quot;prefix&quot;: &quot;fa&quot;}\n",
       "            );\n",
       "            marker_b62a8f0888c9e476eba38ba8ed0c5f94.setIcon(icon_c0c2079b9a4582181d0420fc062eb471);\n",
       "        \n",
       "    \n",
       "        var popup_bcc6c2877a1bb65c5a1952d7e888fa58 = L.popup({&quot;maxWidth&quot;: &quot;100%&quot;});\n",
       "\n",
       "        \n",
       "            \n",
       "                var html_525d1aabe32fc29b461ee025145f4e16 = $(`&lt;div id=&quot;html_525d1aabe32fc29b461ee025145f4e16&quot; style=&quot;width: 100.0%; height: 100.0%;&quot;&gt;RSU7&lt;/div&gt;`)[0];\n",
       "                popup_bcc6c2877a1bb65c5a1952d7e888fa58.setContent(html_525d1aabe32fc29b461ee025145f4e16);\n",
       "            \n",
       "        \n",
       "\n",
       "        marker_b62a8f0888c9e476eba38ba8ed0c5f94.bindPopup(popup_bcc6c2877a1bb65c5a1952d7e888fa58)\n",
       "        ;\n",
       "\n",
       "        \n",
       "    \n",
       "    \n",
       "            var marker_3ae43a6b655e538d8adb2e9741d86931 = L.marker(\n",
       "                [51.211048, 4.491425],\n",
       "                {}\n",
       "            ).addTo(map_d2cccc087bd57bae8e5a6472bb708bd3);\n",
       "        \n",
       "    \n",
       "            var icon_9c4363b9eba6fade28f552bbdfe19f0e = L.AwesomeMarkers.icon(\n",
       "                {&quot;extraClasses&quot;: &quot;fa-rotate-0&quot;, &quot;icon&quot;: &quot;tower-broadcast&quot;, &quot;iconColor&quot;: &quot;white&quot;, &quot;markerColor&quot;: &quot;blue&quot;, &quot;prefix&quot;: &quot;fa&quot;}\n",
       "            );\n",
       "            marker_3ae43a6b655e538d8adb2e9741d86931.setIcon(icon_9c4363b9eba6fade28f552bbdfe19f0e);\n",
       "        \n",
       "    \n",
       "        var popup_d6f554f4039d381ddb6f252d2eade1ee = L.popup({&quot;maxWidth&quot;: &quot;100%&quot;});\n",
       "\n",
       "        \n",
       "            \n",
       "                var html_b986a561f53d2fae763aad885538e33c = $(`&lt;div id=&quot;html_b986a561f53d2fae763aad885538e33c&quot; style=&quot;width: 100.0%; height: 100.0%;&quot;&gt;RSU8&lt;/div&gt;`)[0];\n",
       "                popup_d6f554f4039d381ddb6f252d2eade1ee.setContent(html_b986a561f53d2fae763aad885538e33c);\n",
       "            \n",
       "        \n",
       "\n",
       "        marker_3ae43a6b655e538d8adb2e9741d86931.bindPopup(popup_d6f554f4039d381ddb6f252d2eade1ee)\n",
       "        ;\n",
       "\n",
       "        \n",
       "    \n",
       "&lt;/script&gt;\n",
       "&lt;/html&gt;\" style=\"position:absolute;width:100%;height:100%;left:0;top:0;border:none !important;\" allowfullscreen webkitallowfullscreen mozallowfullscreen></iframe></div></div>"
      ],
      "text/plain": [
       "<folium.folium.Map at 0x11c24ddd0>"
      ]
     },
     "execution_count": 3,
     "metadata": {},
     "output_type": "execute_result"
    }
   ],
   "source": [
    "show_smart_highway_map()"
   ]
  },
  {
   "cell_type": "markdown",
   "id": "7b267b75-f015-40ec-bbe8-ce7d5369a9e1",
   "metadata": {},
   "source": [
    "### Use Case\n",
    "The lack of 5G support on the Smart Highway limits the amount of advanced use cases that can be investigated. An example of such a challenging use case is *teleoperated driving*, which would allow a remote driver to operate a vehicle over the network. A teleoperated driving application generates both uplink (UL) and downlink (DL) traffic. In the UL direction, the vehicle transmits multiple video streams and a variety of other sensor data, so that the remote operator can monitor and see the vehicle's environment. In the DL direction, the remote driver transmits data to control the vehicle. The capacity and latency requirements of this use case make it impossible to deploy using 4G, which is why we are asking you to design a 5G network.\n",
    "\n",
    "During the course of the labs, **your goal will be to plan and design a 5G SA network for the Smart Highway in order to support teleoperated driving**. Since designing a network to support teleoperation for the entirety of the Smart Highway is quite complex, we will make the following simplifications:\n",
    "- While the Smart Highway contains multiple RSUs, **you only have to do the network planning for one RSU**. Therefore, you may assume that the network planning of your chosen RSU can be extrapolated to the other RSUs. Concretely, this means that you can assume that all RSUs have (approximately) the same inter-RSU distance, the same physical propagation environment, and so on.\n",
    "- Since teleoperated driving is an extremely complex use case, the only thing you need to consider during the network planning are the UL video streams that the vehicle transmits to the remote driver. More specifically, you should design your network to support **simultaneous transmission of three 4K video streams** from the vehicle to the remote operator."
   ]
  },
  {
   "cell_type": "markdown",
   "id": "11b2f0cf-94d3-4d94-9e5a-1c2c8e143b2e",
   "metadata": {},
   "source": [
    "## Site Recon\n",
    "The first thing to do is to thoroughly understand the physical environment where you will deploy your network. Take a look at the map of the Smart Highway and answer the following questions."
   ]
  },
  {
   "cell_type": "markdown",
   "id": "cc925909-e8d0-46b3-b265-c7da9788a539",
   "metadata": {},
   "source": [
    "**Question**: Choose an RSU and derive minimum and maximum distances and angles (both horizontal and vertical) for the coverage area.\n",
    "\n",
    "**Answer**: <span style=\"color:red\">**TODO**</span>"
   ]
  },
  {
   "cell_type": "markdown",
   "id": "1e81ff44-c723-4ab2-9c75-dca0108cc31c",
   "metadata": {},
   "source": [
    "**Question**: Make a drawing that shows the coverage area with these distances and angles, both in the horizontal and vertical plane.\n",
    "\n",
    "**Answer**: <span style=\"color:red\">**TODO**</span>"
   ]
  },
  {
   "cell_type": "markdown",
   "id": "46b44611-95cb-4d4b-912d-b6678f89dc9d",
   "metadata": {},
   "source": [
    "## Network Requirements (Uplink)\n",
    "\n",
    "Now that you have a better understanding of the geographical area where you eventually want to deploy your network, you should think about the requirements your network has to satisfy. This is a crucial step, since you will use these requirements as target Key Performance Indicators (KPIs) during the further planning of your network."
   ]
  },
  {
   "cell_type": "markdown",
   "id": "90e1972c-f7bb-4304-b11d-487c3a7b171e",
   "metadata": {},
   "source": [
    "### Capacity"
   ]
  },
  {
   "cell_type": "markdown",
   "id": "d6ca435f-e351-43ce-89a9-b545c3682431",
   "metadata": {},
   "source": [
    "**Question**: Define your target data rate, required to reliably transmit three 4K video streams simultaneously. Document your assumptions (e.g., frame rate, compression, additional capacity overhead, ...).\n",
    "\n",
    "**Answer**: <span style=\"color:red\">**TODO**</span>"
   ]
  },
  {
   "cell_type": "markdown",
   "id": "f61b7ad0-fdcf-4bf3-b6f5-eb76c19fe185",
   "metadata": {},
   "source": [
    "### Latency"
   ]
  },
  {
   "cell_type": "markdown",
   "id": "bd53ba28-f830-4da0-b06f-20c0bc1e5285",
   "metadata": {},
   "source": [
    "**Question**: Break down all the factors contributing to the end-to-end latency of your system, from video capture in the car to playback at the remote operator.\n",
    "\n",
    "**Answer**: <span style=\"color:red\">**TODO**</span>"
   ]
  },
  {
   "cell_type": "markdown",
   "id": "c420d87d-1c11-497c-a730-b79fce7aca73",
   "metadata": {},
   "source": [
    "**Question**: What is the maximum latency that you are willing to accept, and why?\n",
    "\n",
    "**Answer**: <span style=\"color:red\">**TODO**</span>"
   ]
  },
  {
   "cell_type": "markdown",
   "id": "0743aba4-5e9f-4903-94d2-584976d6e44b",
   "metadata": {},
   "source": [
    "### Packet Loss"
   ]
  },
  {
   "cell_type": "markdown",
   "id": "80bc5517-a8de-4e81-a6aa-54bb229921ea",
   "metadata": {},
   "source": [
    "**Question**: What requirements are you targeting in terms of packet loss, and why?\n",
    "\n",
    "**Answer**: <span style=\"color:red\">**TODO**</span>"
   ]
  }
 ],
 "metadata": {
  "kernelspec": {
   "display_name": "Python 3 (ipykernel)",
   "language": "python",
   "name": "python3"
  },
  "language_info": {
   "codemirror_mode": {
    "name": "ipython",
    "version": 3
   },
   "file_extension": ".py",
   "mimetype": "text/x-python",
   "name": "python",
   "nbconvert_exporter": "python",
   "pygments_lexer": "ipython3",
   "version": "3.11.5"
  }
 },
 "nbformat": 4,
 "nbformat_minor": 5
}
