{
 "cells": [
  {
   "cell_type": "markdown",
   "id": "5c78c1fc-0301-412f-a89d-4024b8d5c22d",
   "metadata": {},
   "source": [
    "# Lab 5: Running and Benchmarking your 5G Network\n",
    "\n",
    "In this lab, you will use the configuration files you adapted in the previous lab to run your very own end-to-end 5G SA network. You'll be challenged to configure your OpenAirInterface (OAI) 5G network as closely as possible to your originally planned network from lab 3. You will use the OAI docker images to spin up containerized parts of your 5G network. Then, once you have a fully functional network, you will capture various packet exchanges between the different network components. Finally, you'll finish this lab by performing some basic benchmarks."
   ]
  },
  {
   "cell_type": "markdown",
   "id": "ab8c0043-bae7-4bdc-8c1c-94c9e7f43512",
   "metadata": {},
   "source": [
    "## Prerequisites"
   ]
  },
  {
   "attachments": {},
   "cell_type": "markdown",
   "id": "66715e11-e376-414a-ab54-2e8cad4e215d",
   "metadata": {},
   "source": [
    "### Hardware Requirements\n",
    "\n",
    "OAI can be quite resource intensive depending on what you do with it. For what you will be doing, it shouldn't be a problem to run the whole OAI 5G network on a single laptop, providing that you have a relatively modern system.\n",
    "\n",
    "However, there is one important thing you should keep in mind. The OAI gNB and UE implementations make heavy use of the AVX2 instruction set. Therefore, you should make sure that your CPU implements this instruction set, or otherwise you will not be able to run these components. In case your CPU does not have support for AVX2 (which is very unlikely, unless you have an Apple Silicon MacBook or a laptop that is over a decade old), you can use a physical node on the [Virtual Wall](https://doc.ilabt.imec.be/ilabt/virtualwall/), which you can access using jFed. In fact, I have tested all of the OAI-related exercises on a pcgen6 node on the Virtual Wall using Ubuntu 20.04 (see image), so if you plan on using it at some point, this setup should not cause any issues.\n",
    "\n",
    "![Accessing physical nodes from the Virtual Wall using jFed](images/jfed_virtual_wall.png)\n",
    "\n",
    "### Install Docker\n",
    "\n",
    "Since you will use the dockerized version of OAI, you should install Docker on the machine that you plan to run it on. \n",
    "\n",
    "In case you don't have Docker installed yet, follow the installation instructions from the Docker [documentation](https://docs.docker.com/engine/install/).\n",
    "\n",
    "> <span style=\"color:green\">**Hint**</span>: after installing Docker, add your user to the docker group and activate the changes, so you don't have to run the docker commands with `sudo`.\n",
    "> ```bash\n",
    "> sudo usermod -aG docker $USER\n",
    "> newgrp docker\n",
    "> ```\n",
    "\n",
    "### Setting up Wireshark \n",
    "\n",
    "You will use Wireshark to capture packets that are sent between the different components of your 5G network.\n",
    "\n",
    "By default, Wireshark will not be able to correctly dissect and display packets from certain 5G protocols. In 5G radio networks, Radio Link Control (RLC) and Radio Resource Control (RRC) messages are typically exchanged between the UE and gNB using User Datagram Protocol (UDP) as a transport protocol. In fact, if you were to look at an OAI packet capture between the UE and gNB (see later) with the default Wireshark profile, you would see a bunch of UDP packets with unreadable datagrams. Therefore, you will need to do some configuring inside your Wireshark.\n",
    "\n",
    "Before messing with your Wireshark settings and protocol configurations, I recommend you create a new configuration profile by going to `Edit > Configuration Profiles`. There, you can create and activate a new profile (e.g., \"5G-NR\") where all of your configurations will be saved. This will allow you to revert back to your default profile when you are done with the labs.\n",
    "\n",
    "Next, you can start configuring the way Wireshark dissects RLC and RRC packet captures by following the OAI [documentation](https://gitlab.eurecom.fr/oai/openairinterface5g/-/blob/develop/common/utils/T/DOC/T/wireshark.md#configure-wireshark-for-nr)."
   ]
  },
  {
   "cell_type": "markdown",
   "id": "488e96c7-d084-4173-9fbb-4fe2b02ffb12",
   "metadata": {},
   "source": [
    "## *The OAI Games*: Configuring and Debugging Your 5G Network\n",
    "\n",
    "Before you start delving into packet captures and benchmarks, you will first have to make sure that you are able to run the network using your own configuration files. There is a big chance that your network will not \"just work\" when you run it for the first time, either because you misconfigured something, or because OAI is quite picky about particular combinations of parameters. In fact, it can be tricky to correctly configure a working OAI system. The 5G NR specification is very flexible by design, which makes initial setup more complex due to the huge amount of possible configuration options. \n",
    "\n",
    "Configuring and running an OAI system without errors can be complex due to the flexibility and multitude of configuration options provided by the 5G NR specification. On top of this, OAI can be quite picky about particular combinations of parameters, which creates additional challenges. To make the time you will spend on configuring your OAI system worth your while, we introduce: *The OAI Games*.\n",
    "\n",
    "### Objective\n",
    "\n",
    "The main objective of *The OAI Games* is to configure your OAI 5G network to closely resemble your initial network design from the previous lab sessions. The group that achieves the closest alignment between their configured network and their original plan will also receive one extra point for the 5G labs.\n",
    "\n",
    "### Expectation and Grading\n",
    "\n",
    "Unlike previous exercises, this exercise is intentionally open-ended. This exercise is designed to test your ability to configure the system independently, as well as your overall understanding of 5G concepts. Therefore, for this exercise, you will be evaluated based on two main criteria:\n",
    "\n",
    "1. Your ability to keep your resulting configuration file as close as possible to your original file from the previous lab; **and**\n",
    "2. Your ability to document your modifications and clearly explain your debugging process.\n",
    "\n",
    "Therefore, even if you did not manage to make your system work with your original configuration, you will still be rewarded if you can clearly document the changes you've made throughout your debugging process.\n",
    "\n",
    "### Rules of the Game\n",
    "The rules of the game are as follows:\n",
    "- You are allowed to change any files you want.\n",
    "- You are allowed to revert back to some of the default configuration parameters, as long as you clearly document why you did that you did.\n",
    "\n",
    "> <span style=\"color:green\">**Hint**</span>: If you need a reference for a fully operational network, you can use the provided configuration files in their default state. However, keep in mind that simply using the default network for the rest of the lab without modifications will result in point deductions!\n",
    "\n",
    "In the following two subsections, you'll briefly be guided on how to run the different network components, and you'll be given some space to document your configuration and debugging process."
   ]
  },
  {
   "cell_type": "markdown",
   "id": "fba33cb5-f757-4b5b-afe6-207f4403fba0",
   "metadata": {},
   "source": [
    "### How to Run\n",
    "\n",
    "To run your 5G network, you will use the resources available in the `oai` folder, where the configuration files you changed in the previous lab are stored. The `oai-cn5g`, `oai-gnb`, and `oai-ue` subfolders each contain a Docker Compose file to run a specific part of the network (CN, gNB, and UE, resp.).\n",
    "\n",
    "Always keep in mind the following deployment order when running the Docker Compose files: CN $\\rightarrow$ gNB $\\rightarrow$ UE. Deploying the containers in any other order will most likely result in issues, so make sure that the necessary services are running before moving on."
   ]
  },
  {
   "cell_type": "markdown",
   "id": "530106cc-9943-412f-b2ac-5d5000d9ed7f",
   "metadata": {},
   "source": [
    "**1. OAI Core Network (CN)**\n",
    "\n",
    "Go to the `oai-cn5g` folder and run \n",
    "\n",
    "```shell\n",
    "docker compose up -d\n",
    "```\n",
    "\n",
    "The `-d` flag will make sure that the services are started in the background. Before moving on to the deployment of the gNB, make sure that all the CN functions are started correctly by running `docker compose ps -a`. If you configured everything properly, you should eventually see a `(healthy)` status on all the services."
   ]
  },
  {
   "cell_type": "markdown",
   "id": "f6b41ec1-6eaa-4232-b2b9-33f9e1798bcb",
   "metadata": {},
   "source": [
    "**2. OAI gNodeB (gNB)**\n",
    "\n",
    "Once all the CN functions are up and running (and marked healthy), you should be able to go to the `oai-gnb` folder and setup the gNB using\n",
    "\n",
    "```shell\n",
    "docker compose up\n",
    "```\n",
    "\n",
    "I recommend you run the gNB without the `-d` flag in a separate terminal window, since 1) the compose file only has one service, which makes reading the output of the command easier; and 2) the container logs will be useful to see whether the UE is able to connect to the gNB. "
   ]
  },
  {
   "cell_type": "markdown",
   "id": "d21902e4-457c-4086-86e0-147dbc95c208",
   "metadata": {},
   "source": [
    "**3. OAI User Equipment (UE)**\n",
    "\n",
    "Once the CN is running and correctly recognizes your running gNB, you are ready to start the UE. Go to the `oai-ue` folder and run\n",
    "\n",
    "```shell\n",
    "docker compose up\n",
    "```\n",
    "\n",
    "Just like the gNB, it is a good idea to run the UE in a separate terminal window to keep an eye on the logs."
   ]
  },
  {
   "cell_type": "markdown",
   "id": "bdaf3e9b-1b69-45d5-9752-f6cc49f3bc70",
   "metadata": {},
   "source": [
    "**4. Connectivity test**\n",
    "\n",
    "If you got to this point without too many errors, you should now have a fully functioning 5G SA network. In order to verify this, you can run a ping from the UE to the external network (in this case, the `oai-ext-dn` container). Make sure you ping using the correct interface!"
   ]
  },
  {
   "cell_type": "markdown",
   "id": "aabfddff-3b8b-4f84-9a6a-99a609ef9d6d",
   "metadata": {},
   "source": [
    "**Question**: Run a packet capture on the `demo-oai` interface, and ping the `oai-ext-dn` container from the UE over the tunnel interface. You should notice something different about your captured ICMP packets. What do you notice and why is this the case?\n",
    "\n",
    "**Answer**: <span style=\"color:red\">**TODO**</span>"
   ]
  },
  {
   "cell_type": "markdown",
   "id": "dbf82734-ac46-42e2-abbb-afaaaef16605",
   "metadata": {},
   "source": [
    "### Debugging"
   ]
  },
  {
   "cell_type": "markdown",
   "id": "2f86d825-ff86-4de6-b34a-1a20d87f4da8",
   "metadata": {},
   "source": [
    "**Question**: Document here what you did to get an operational OAI network. Be clear and thorough!\n",
    "\n",
    "**Answer**: <span style=\"color:red\">**TODO**</span>"
   ]
  },
  {
   "cell_type": "markdown",
   "id": "1f6a3037-72fa-4d33-b559-7cdfedc4c50f",
   "metadata": {},
   "source": [
    "## Packet Traces\n",
    "\n",
    "Once your custom network is running, you are ready to start capturing some of the interactions between the different network components. **Make sure you run everything below this point using your own network!** The packet captures will reflect some of the configurations you did above, and will tell us whether you configured things correctly.\n",
    "\n",
    "For most of the captures, you can use the [5G SA access procedure](https://www.eventhelix.com/5g/standalone-access-registration/5g-standalone-access-registration.pdf) as a reference."
   ]
  },
  {
   "cell_type": "markdown",
   "id": "9696f92e-06cb-46de-b853-966a87041ce1",
   "metadata": {},
   "source": [
    "### gNB Registration Procedure\n",
    "\n",
    "Start by capturing the gNB registration process that occurs between the CN and a gNB that joins the network. To capture the necessary packets, follow the steps below:\n",
    "\n",
    "1. Run the CN,\n",
    "2. Start a packet capture on the network interface created by Docker,\n",
    "3. Launch the gNB until it is fully connected."
   ]
  },
  {
   "cell_type": "markdown",
   "id": "d6b6c9e2-91b8-4621-bb4b-0f447213b1b3",
   "metadata": {},
   "source": [
    "**Question**: Take a look at the logs of the AMF. Provide the part of the logs that shows that the gNB is recognized by the core. \n",
    "\n",
    "**Answer**: <span style=\"color:red\">**TODO**</span>"
   ]
  },
  {
   "cell_type": "markdown",
   "id": "a6a7d248-0689-4faa-bb18-8dad2d04f8c7",
   "metadata": {},
   "source": [
    "**Question**: Which two packets reflect the gNB registration process, and what protocol do they use? Export them into a capture file called [lab5-gnb-setup.pcap](traces/lab5-gnb-setup.pcap), and briefly explain their `Item` fields.\n",
    "\n",
    "**Answer**: <span style=\"color:red\">**TODO**</span>"
   ]
  },
  {
   "cell_type": "markdown",
   "id": "ce9c72ef-ceec-4a9a-b4a6-329041eef64a",
   "metadata": {},
   "source": [
    "### UE RRC Connection Setup Procedure\n",
    "\n",
    "Next, you'll capture the message exchange between the UE and gNB that occurs right after the random access procedure. \n",
    "\n",
    "Note: In order to capture lower layer packets (RLC, RRC) between the UE and gNB, you will have to enable packet capturing from within the gNB itself (as explained in the [documentation](https://gitlab.eurecom.fr/oai/openairinterface5g/-/blob/develop/openair2/UTIL/OPT/README.txt)). You won't be able to see them if you simply capture the packets on the Docker network interface without enabling packet capturing at the gNB!"
   ]
  },
  {
   "cell_type": "markdown",
   "id": "b718c3e5-2b0e-4a57-8d8c-fc4a8ed46e5c",
   "metadata": {},
   "source": [
    "**Question**: Take a look at the logs of the AMF and show the part of the logs that proves the UE is recognized by the core. \n",
    "\n",
    "**Answer**: <span style=\"color:red\">**TODO**</span>"
   ]
  },
  {
   "cell_type": "markdown",
   "id": "aa0c25f6-2e16-4501-a861-bc67dbc17cc4",
   "metadata": {},
   "source": [
    "**Question**: Capture the RRC connection setup procedure between the UE and the gNB in a file called [lab5-rrc-setup.pcap](traces/lab5-rrc-setup.pcap). What is the purpose of this procedure? Briefly explain what each packet contains.\n",
    "\n",
    "**Answer**: <span style=\"color:red\">**TODO**</span>"
   ]
  },
  {
   "cell_type": "markdown",
   "id": "b7af4642-953d-4397-8a33-07a9fd8546ca",
   "metadata": {},
   "source": [
    "### Access Registration Procedure\n",
    "\n",
    "Once the UE has established a connection with the gNB, the gNB will forward the UE's registration request to the CN. Then, the CN functions will exchange messages to authenticate the UE, create a session, and establish a network connection.\n",
    "\n",
    "For simplicity, you will capture the whole access procedure in one pcap file called [lab5-access-registration.pcap](traces/lab5-access-registration.pcap). Throughout the following questions, you'll be asked to refer to specific packets in this pcap file to explain various procedures. In order to create this pcap file, you should perform the following steps:\n",
    "\n",
    "1. Run the CN,\n",
    "2. Start a packet capture on the network interface created by Docker,\n",
    "3. Run the gNB until it is fully connected,\n",
    "4. Run the UE until it is fully connected.\n",
    "\n",
    "Use the filter below when capturing packets (assuming you haven't changed any ports in your configuration), either using `tcpdump` or Wireshark. The filter allows only the following packets to be captured: control plane RAN (SCTP), ICMP, HTTP of control in CN, PFCP, MySQL\n",
    "```\n",
    "sctp or icmp or port 80 or port 2152 or port 3306 or port 8080 or port 8805 or port 9090 or port 33060 or port 38412\n",
    "```"
   ]
  },
  {
   "cell_type": "markdown",
   "id": "951a2c51-697d-4566-be86-6ecfcb605dac",
   "metadata": {},
   "source": [
    "**Question**: Create a sequence diagram of the message exchange that you captured between gNB and CN functions during the access procedure, from the `InitialUEMessage` message to the `InitialContextSetupResponse` message. For each exchanged message, give:\n",
    "\n",
    "1) the name of the message;\n",
    "2) the protocol used;\n",
    "3) a short description of what the message does;\n",
    "4) a packet ID, referring to the ID of the packet in your capture file corresponding to the message.\n",
    "\n",
    "Make sure you capture at least:\n",
    "1) The `InitialUEMessage`\n",
    "2) Authentication & security procedure\n",
    "5) UPF setup procedure\n",
    "7) `InitialContextSetupRequest` message\n",
    "\n",
    "*(see [5G SA access procedure](https://www.eventhelix.com/5g/standalone-access-registration/5g-standalone-access-registration.pdf). Note that the procedure you'll capture won't exactly match the procedure listed in this document, since your core is a bit simpler)*\n",
    "\n",
    "**Answer**: <span style=\"color:red\">**TODO**</span>"
   ]
  },
  {
   "cell_type": "markdown",
   "id": "b60b1334-34af-49ad-9d2c-e45be03c11fd",
   "metadata": {},
   "source": [
    "## Benchmarking"
   ]
  },
  {
   "cell_type": "markdown",
   "id": "01127374-551f-42bf-a413-b9b95600c5fb",
   "metadata": {},
   "source": [
    "Finally, you will finish this lab by doing some basic benchmarking of your 5G network. To do so, you will run both a downlink and uplink iperf session to evaluate the end-to-end throughput of your system."
   ]
  },
  {
   "cell_type": "markdown",
   "id": "b27a4a83-acd4-4b89-8286-d142b6d7b622",
   "metadata": {},
   "source": [
    "### Downlink Benchmark\n",
    "\n",
    "To perform a downlink benchmark, you will start an iperf server in the UE container and start an iperf client in the `oai-ext-dn` container (i.e., the \"external network\") towards the server.\n",
    "\n",
    "In the UE container:\n",
    "```shell\n",
    "iperf -s -B <ip_of_tunnel_interface> -u -i 1\n",
    "```\n",
    "\n",
    "In the `oai-ext-dn` container:\n",
    "```shell\n",
    "iperf -c <ip_of_ue> -u -i 1 -t 20 -b <amount_of_data_to_send> # you might need to play around with the -b option a bit\n",
    "```"
   ]
  },
  {
   "cell_type": "markdown",
   "id": "3da87186-a2b0-484a-ad98-dc357ee33e3d",
   "metadata": {},
   "source": [
    "**Question**: List the commands that you ended up running, and give the average downlink throughput. Does this value align with your expectations, and why (not)?\n",
    "\n",
    "**Answer**: <span style=\"color:red\">**TODO**</span>"
   ]
  },
  {
   "cell_type": "markdown",
   "id": "916899bb-fca2-40ec-bf28-1843ddc9462e",
   "metadata": {},
   "source": [
    "### Uplink Benchmark\n",
    "\n",
    "Similarly, test the uplink throughput as follows.\n",
    "\n",
    "In the UE container:\n",
    "```shell\n",
    "iperf -c <ip_of_ext_dn> -B <ip_of_tunnel_interface> -u -i 1 -t 20 -b <amount_of_data_to_send> # you might need to play around with the -b option a bit\n",
    "```\n",
    "\n",
    "In the `oai-ext-dn` container:\n",
    "```shell\n",
    "iperf -s -u -i 1\n",
    "```"
   ]
  },
  {
   "cell_type": "markdown",
   "id": "9f223cb2-c8b5-4bec-a45c-5c9a45b3a3df",
   "metadata": {},
   "source": [
    "**Question**: List the commands that you ended up running, and give the average uplink throughput. Does this value align with your expectations, and why (not)?\n",
    "\n",
    "**Answer**: <span style=\"color:red\">**TODO**</span>"
   ]
  },
  {
   "cell_type": "markdown",
   "id": "5297ca91-8469-4113-9642-addc7c85e77e",
   "metadata": {},
   "source": [
    "---\n",
    "<span style=\"color:red\">**IMPORTANT**</span>: Once you are done with this lab, make sure to save a copy of your configuration files, since you will most likely change some of your configurations in the next lab.\n",
    "\n",
    "In the end, make sure you have one archive named `lab4-oai.tar.gz` in the `traces` directory, containing your configuration files for this lab. For simplicity, you can archive the whole `oai` directory, **but make sure that the configuration files reflect the changes you performed in this lab!**"
   ]
  }
 ],
 "metadata": {
  "kernelspec": {
   "display_name": "Python 3 (ipykernel)",
   "language": "python",
   "name": "python3"
  },
  "language_info": {
   "codemirror_mode": {
    "name": "ipython",
    "version": 3
   },
   "file_extension": ".py",
   "mimetype": "text/x-python",
   "name": "python",
   "nbconvert_exporter": "python",
   "pygments_lexer": "ipython3",
   "version": "3.11.5"
  }
 },
 "nbformat": 4,
 "nbformat_minor": 5
}
